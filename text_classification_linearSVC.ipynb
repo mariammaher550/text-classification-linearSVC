{
  "nbformat": 4,
  "nbformat_minor": 0,
  "metadata": {
    "colab": {
      "name": "text-classification-linearSVC.ipynb",
      "provenance": [],
      "collapsed_sections": [],
      "authorship_tag": "ABX9TyONRtIjCsWn+P6OolWzE7bP",
      "include_colab_link": true
    },
    "kernelspec": {
      "name": "python3",
      "display_name": "Python 3"
    },
    "language_info": {
      "name": "python"
    }
  },
  "cells": [
    {
      "cell_type": "markdown",
      "metadata": {
        "id": "view-in-github",
        "colab_type": "text"
      },
      "source": [
        "<a href=\"https://colab.research.google.com/github/mariammaher550/text-classification-linearSVC/blob/main/text_classification_linearSVC.ipynb\" target=\"_parent\"><img src=\"https://colab.research.google.com/assets/colab-badge.svg\" alt=\"Open In Colab\"/></a>"
      ]
    },
    {
      "cell_type": "code",
      "execution_count": 101,
      "metadata": {
        "id": "-phnpkdU3W9L",
        "colab": {
          "base_uri": "https://localhost:8080/"
        },
        "outputId": "b92234a9-2a3e-4d88-a8fb-9ae7f1efbff5"
      },
      "outputs": [
        {
          "output_type": "stream",
          "name": "stdout",
          "text": [
            "3234\n",
            "Алкоголь\n",
            "(160086, 3)\n"
          ]
        }
      ],
      "source": [
        "#%matplotlib inline\n",
        "import numpy as np\n",
        "import matplotlib.pyplot as plt\n",
        "import pandas as pd\n",
        "from sklearn.feature_extraction.text import TfidfVectorizer\n",
        "from sklearn.model_selection import train_test_split\n",
        "from sklearn.naive_bayes import MultinomialNB\n",
        "from sklearn.metrics import confusion_matrix\n",
        "import seaborn as sns\n",
        "from sklearn.metrics import classification_report\n",
        "from sklearn.decomposition import TruncatedSVD\n",
        "from sklearn.preprocessing import LabelEncoder\n",
        "from imblearn.combine import SMOTEENN\n",
        "from sklearn.linear_model import LogisticRegression\n",
        "from sklearn.svm import LinearSVC\n",
        "from imblearn.under_sampling import EditedNearestNeighbours\n",
        "from imblearn.over_sampling import SMOTE\n",
        "from sklearn.pipeline import make_pipeline\n",
        "from imblearn.pipeline import make_pipeline as make_pipeline_imb\n",
        "\n",
        "\n",
        "data = pd.read_csv(\"complete-titles.csv\")\n",
        "data = data.sample(frac=1).reset_index(drop=True)\n",
        "data.drop_duplicates\n",
        "\n",
        "text=[]\n",
        "target=[]\n",
        "\n",
        "print(data.iloc[0][0])\n",
        "print(data.iloc[0][2])\n",
        "print(data.shape)\n",
        "\n",
        "for i in range(data.shape[0]):\n",
        "  if str(data.iloc[i][2]) != '16':\n",
        "      text.append(str(data.iloc[i][1]))\n",
        "      target.append(data.iloc[i][2])\n",
        "\n",
        "categories  = []\n",
        "# # cleared_uk = []\n",
        "# # titles_uk = []\n",
        "for i in range(27):\n",
        "  if i != 16:\n",
        "    categories.append(i)\n"
      ]
    },
    {
      "cell_type": "code",
      "source": [
        "x_train, x_test, y_train, y_test = train_test_split(text, target, test_size=0.33)\n",
        "\n",
        "# remove SMOTEENN to test with imbalanced dataset\n",
        "smote_pipeline = make_pipeline_imb(TfidfVectorizer(max_features=35000), SMOTEENN(smote=SMOTE(k_neighbors=5)),LinearSVC())\n",
        "smote_model = smote_pipeline.fit(x_train, y_train)\n",
        "smote_prediction = smote_model.predict(x_test)\n",
        "\n"
      ],
      "metadata": {
        "id": "K_Izq_1E58_k"
      },
      "execution_count": 104,
      "outputs": []
    },
    {
      "cell_type": "code",
      "source": [
        "from sklearn.metrics import classification_report\n",
        "print(classification_report(y_test, smote_prediction))"
      ],
      "metadata": {
        "colab": {
          "base_uri": "https://localhost:8080/"
        },
        "id": "z8PsCnlP6mfU",
        "outputId": "0fd7d44c-7b30-4270-da09-bf34f50de683"
      },
      "execution_count": 105,
      "outputs": [
        {
          "output_type": "stream",
          "name": "stdout",
          "text": [
            "                   precision    recall  f1-score   support\n",
            "\n",
            "             Авто       0.89      0.96      0.92       778\n",
            "         Алкоголь       0.96      0.97      0.96      2779\n",
            "          Бакалея       0.95      0.93      0.94      5114\n",
            "      Гастрономия       0.94      0.94      0.94      3924\n",
            "             Дети       0.84      0.94      0.89      2251\n",
            "         Для дома       0.95      0.76      0.84      6412\n",
            "         Животные       0.98      0.98      0.98      1982\n",
            "         Здоровье       0.87      0.93      0.90      2088\n",
            "       Канцтовары       0.55      0.88      0.68       195\n",
            "             Кафе       0.75      0.85      0.80      1797\n",
            "   Книги и пресса       0.54      0.90      0.68       174\n",
            "        Косметика       0.71      0.93      0.81      2563\n",
            "        Кулинария       0.74      0.91      0.82       949\n",
            "Молочные продукты       0.98      0.96      0.97      6081\n",
            "     Мясо и птица       0.95      0.95      0.95      2457\n",
            "          Напитки       0.97      0.95      0.96      4044\n",
            "   Овощи и фрукты       0.99      0.95      0.97      9241\n",
            "\n",
            "         accuracy                           0.92     52829\n",
            "        macro avg       0.86      0.92      0.88     52829\n",
            "     weighted avg       0.93      0.92      0.92     52829\n",
            "\n"
          ]
        }
      ]
    }
  ]
}